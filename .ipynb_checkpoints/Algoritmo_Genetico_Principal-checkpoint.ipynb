{
 "cells": [
  {
   "cell_type": "code",
   "execution_count": 1,
   "metadata": {
    "colab": {
     "base_uri": "https://localhost:8080/",
     "height": 34
    },
    "colab_type": "code",
    "id": "IahvTfhdaIv_",
    "outputId": "fb783bbd-d8bd-4cdf-9b7f-5c0e90370256"
   },
   "outputs": [],
   "source": [
    "#from google.colab import drive\n",
    "#drive.mount('/content/drive/',True)\n",
    "#!cp \"/content/drive/Shared drives/Proyecto Final/4. Diseño Basico/Algortimo Genetico Cinematico/ga.py\" \"ga.py\"\n",
    "#!cp \"/content/drive/Shared drives/Proyecto Final/4. Diseño Basico/Algortimo Genetico Cinematico/GlobalIndexKinematical.py\" \"GlobalIndexKinematical.py\""
   ]
  },
  {
   "cell_type": "code",
   "execution_count": 8,
   "metadata": {},
   "outputs": [],
   "source": [
    "from ipyparallel import Client\n",
    "rc = Client()\n",
    "dv = rc[:]\n",
    "dv.block = True"
   ]
  },
  {
   "cell_type": "code",
   "execution_count": 2,
   "metadata": {
    "colab": {},
    "colab_type": "code",
    "id": "A40iIoxhTILq"
   },
   "outputs": [],
   "source": [
    "import numpy as np\n",
    "import matplotlib.pyplot as plt\n",
    "import ga\n",
    "import GlobalIndexKinematical as km"
   ]
  },
  {
   "cell_type": "code",
   "execution_count": 3,
   "metadata": {
    "colab": {
     "base_uri": "https://localhost:8080/",
     "height": 486
    },
    "colab_type": "code",
    "id": "YjNcA80dVKW5",
    "outputId": "6dee3000-8d7a-414b-da03-740e6d3213b1"
   },
   "outputs": [
    {
     "name": "stdout",
     "output_type": "stream",
     "text": [
      "Random Population:\n",
      " [[ 5.07207977e+02  1.29613053e+02  7.29774190e+01 -2.75472551e+00]\n",
      " [ 5.89782832e+02  7.59944756e+01  9.87152299e+01  6.94603070e+00]\n",
      " [ 5.58629042e+02  1.16896335e+02  1.47489525e+02  1.63223429e+01]\n",
      " [ 5.36082674e+02  1.13594773e+02  1.96789379e+02  3.30214811e+01]\n",
      " [ 6.35772396e+02  1.36134123e+02  2.02646693e+02 -4.77467080e+01]\n",
      " [ 5.80851005e+02  1.38514534e+02  1.81451413e+02 -1.05148832e-01]\n",
      " [ 6.36199213e+02  1.03305359e+02  6.59722160e+01 -1.73168795e+01]\n",
      " [ 6.52587416e+02  6.11235624e+01  1.94832365e+02  2.53927912e+01]\n",
      " [ 5.71646060e+02  5.72171158e+01  2.27431171e+02 -3.91747466e+01]\n",
      " [ 6.86531360e+02  1.32233227e+02  1.61237183e+02  2.38253652e+01]\n",
      " [ 4.75815539e+02  8.11717455e+01  1.87015918e+02  4.13136065e+01]\n",
      " [ 5.41621108e+02  1.25924017e+02  1.98661728e+02 -7.34412822e+00]\n",
      " [ 5.75842341e+02  1.11028338e+02  2.42718715e+02  1.59574337e+00]\n",
      " [ 6.13310923e+02  6.37952674e+01  7.50764461e+01 -3.97131928e+01]\n",
      " [ 4.51642685e+02  1.22264714e+02  2.36951798e+02 -4.35438295e+01]\n",
      " [ 6.03323738e+02  1.01204790e+02  1.81018341e+02  1.58836516e+01]\n",
      " [ 4.63298682e+02  1.00874176e+02  1.09718538e+02 -2.10680502e+01]\n",
      " [ 5.51128642e+02  1.23786152e+02  1.77135662e+02  1.86987545e+01]\n",
      " [ 4.75385702e+02  7.21432826e+01  2.44647779e+02  4.09842453e+00]\n",
      " [ 5.74022866e+02  8.62298785e+01  1.26123389e+02 -1.05541595e+01]\n",
      " [ 6.83574163e+02  7.69813252e+01  2.17734897e+02  3.76604940e+00]\n",
      " [ 5.27371963e+02  6.47728892e+01  2.11697351e+02 -2.63823699e+00]\n",
      " [ 6.50852467e+02  7.87386702e+01  5.52222117e+01 -9.68896628e+00]\n",
      " [ 5.45429260e+02  1.49221712e+02  1.88741450e+02 -1.22945062e+01]\n",
      " [ 6.74560788e+02  1.09926036e+02  5.08539277e+01  3.69013702e+01]] \n",
      "\n"
     ]
    }
   ],
   "source": [
    "# Inputs or constants\n",
    "span = [[450,50,50,-50],[700,150,250,50]]\n",
    "\n",
    "# Number of variables for optimization\n",
    "num_var = 4\n",
    "num_kromo = 25 # Number of Chromosomes\n",
    "k = 100 # Number of Generations\n",
    "pop_size = (num_kromo, 1)\n",
    "\n",
    "# Random Population\n",
    "new_pop1 = np.random.uniform(span[0][0], span[1][0], size=pop_size)\n",
    "new_pop2 = np.random.uniform(span[0][1], span[1][1], size=pop_size)\n",
    "new_pop3 = np.random.uniform(span[0][2], span[1][2], size=pop_size)\n",
    "new_pop4 = np.random.uniform(span[0][3], span[1][3], size=pop_size)\n",
    "\n",
    "new_population = np.concatenate((new_pop1,new_pop2, new_pop3, new_pop4),axis=1)\n",
    "print('Random Population:\\n',new_population,'\\n')\n",
    "\n",
    "# Point Cloud\n",
    "P = km.WorkspaceDesired(500.0,650.0,50.0)\n",
    "\n",
    "# Number of Parents\n",
    "num_parents = int(num_kromo/2)\n",
    "\n",
    "Global_fitness = []\n",
    "Avg_fitness=[]\n",
    "Elite = []"
   ]
  },
  {
   "cell_type": "code",
   "execution_count": 4,
   "metadata": {
    "colab": {
     "base_uri": "https://localhost:8080/",
     "height": 237
    },
    "colab_type": "code",
    "id": "RbyazeXFVTRh",
    "outputId": "0e32493f-df33-4bbe-b0c7-abf5b940bd6a"
   },
   "outputs": [
    {
     "name": "stdout",
     "output_type": "stream",
     "text": [
      "\n",
      " Evaluate Fitness of Generation 0:\n"
     ]
    },
    {
     "ename": "KeyboardInterrupt",
     "evalue": "",
     "output_type": "error",
     "traceback": [
      "\u001b[0;31m---------------------------------------------------------------------------\u001b[0m",
      "\u001b[0;31mKeyboardInterrupt\u001b[0m                         Traceback (most recent call last)",
      "\u001b[0;32m<ipython-input-4-b30fb30a0eb6>\u001b[0m in \u001b[0;36m<module>\u001b[0;34m\u001b[0m\n\u001b[1;32m      2\u001b[0m     \u001b[0;31m# Evaluate Fitness\u001b[0m\u001b[0;34m\u001b[0m\u001b[0;34m\u001b[0m\u001b[0;34m\u001b[0m\u001b[0m\n\u001b[1;32m      3\u001b[0m     \u001b[0mprint\u001b[0m\u001b[0;34m(\u001b[0m\u001b[0;34m'\\n'\u001b[0m\u001b[0;34m,\u001b[0m\u001b[0;34mf'Evaluate Fitness of Generation {i}:'\u001b[0m\u001b[0;34m)\u001b[0m\u001b[0;34m\u001b[0m\u001b[0;34m\u001b[0m\u001b[0m\n\u001b[0;32m----> 4\u001b[0;31m     \u001b[0mfitness\u001b[0m \u001b[0;34m=\u001b[0m \u001b[0mga\u001b[0m\u001b[0;34m.\u001b[0m\u001b[0mfitnessK\u001b[0m\u001b[0;34m(\u001b[0m\u001b[0mnew_population\u001b[0m\u001b[0;34m,\u001b[0m\u001b[0mP\u001b[0m\u001b[0;34m)\u001b[0m\u001b[0;34m\u001b[0m\u001b[0;34m\u001b[0m\u001b[0m\n\u001b[0m\u001b[1;32m      5\u001b[0m     \u001b[0mGlobal_fitness\u001b[0m\u001b[0;34m.\u001b[0m\u001b[0mappend\u001b[0m\u001b[0;34m(\u001b[0m\u001b[0mmax\u001b[0m\u001b[0;34m(\u001b[0m\u001b[0mfitness\u001b[0m\u001b[0;34m)\u001b[0m\u001b[0;34m)\u001b[0m\u001b[0;34m\u001b[0m\u001b[0;34m\u001b[0m\u001b[0m\n\u001b[1;32m      6\u001b[0m     \u001b[0mAvg_fitness\u001b[0m\u001b[0;34m.\u001b[0m\u001b[0mappend\u001b[0m\u001b[0;34m(\u001b[0m\u001b[0mnp\u001b[0m\u001b[0;34m.\u001b[0m\u001b[0maverage\u001b[0m\u001b[0;34m(\u001b[0m\u001b[0mfitness\u001b[0m\u001b[0;34m)\u001b[0m\u001b[0;34m)\u001b[0m\u001b[0;34m\u001b[0m\u001b[0;34m\u001b[0m\u001b[0m\n",
      "\u001b[0;32m~/Documentos/PF-Mec/ga.py\u001b[0m in \u001b[0;36mfitnessK\u001b[0;34m(population, P, show)\u001b[0m\n\u001b[1;32m     52\u001b[0m             \u001b[0mprint\u001b[0m\u001b[0;34m(\u001b[0m\u001b[0;34m'Chromosome '\u001b[0m\u001b[0;34m,\u001b[0m\u001b[0mC\u001b[0m\u001b[0;34m,\u001b[0m\u001b[0mend\u001b[0m\u001b[0;34m=\u001b[0m\u001b[0;34m' - '\u001b[0m\u001b[0;34m)\u001b[0m\u001b[0;34m\u001b[0m\u001b[0;34m\u001b[0m\u001b[0m\n\u001b[1;32m     53\u001b[0m         \u001b[0mC\u001b[0m \u001b[0;34m=\u001b[0m \u001b[0mC\u001b[0m \u001b[0;34m+\u001b[0m \u001b[0;36m1\u001b[0m\u001b[0;34m\u001b[0m\u001b[0;34m\u001b[0m\u001b[0m\n\u001b[0;32m---> 54\u001b[0;31m         \u001b[0mI\u001b[0m \u001b[0;34m=\u001b[0m \u001b[0mkm\u001b[0m\u001b[0;34m.\u001b[0m\u001b[0mAllIndex\u001b[0m\u001b[0;34m(\u001b[0m\u001b[0mL\u001b[0m\u001b[0;34m,\u001b[0m\u001b[0mP\u001b[0m\u001b[0;34m)\u001b[0m\u001b[0;34m\u001b[0m\u001b[0;34m\u001b[0m\u001b[0m\n\u001b[0m\u001b[1;32m     55\u001b[0m         \u001b[0mI\u001b[0m \u001b[0;34m=\u001b[0m \u001b[0mkm\u001b[0m\u001b[0;34m.\u001b[0m\u001b[0mIntegratedIndex\u001b[0m\u001b[0;34m(\u001b[0m\u001b[0mI\u001b[0m\u001b[0;34m)\u001b[0m\u001b[0;34m\u001b[0m\u001b[0;34m\u001b[0m\u001b[0m\n\u001b[1;32m     56\u001b[0m         \u001b[0mI\u001b[0m \u001b[0;34m=\u001b[0m \u001b[0mkm\u001b[0m\u001b[0;34m.\u001b[0m\u001b[0mGlobalIndex\u001b[0m\u001b[0;34m(\u001b[0m\u001b[0mI\u001b[0m\u001b[0;34m)\u001b[0m\u001b[0;34m.\u001b[0m\u001b[0mtolist\u001b[0m\u001b[0;34m(\u001b[0m\u001b[0;34m)\u001b[0m\u001b[0;34m\u001b[0m\u001b[0;34m\u001b[0m\u001b[0m\n",
      "\u001b[0;32m~/Documentos/PF-Mec/GlobalIndexKinematical.py\u001b[0m in \u001b[0;36mAllIndex\u001b[0;34m(L, P)\u001b[0m\n\u001b[1;32m    139\u001b[0m     \u001b[0;32mfor\u001b[0m \u001b[0mii\u001b[0m \u001b[0;32min\u001b[0m \u001b[0mrange\u001b[0m\u001b[0;34m(\u001b[0m\u001b[0mP\u001b[0m\u001b[0;34m.\u001b[0m\u001b[0mshape\u001b[0m\u001b[0;34m[\u001b[0m\u001b[0;36m0\u001b[0m\u001b[0;34m]\u001b[0m\u001b[0;34m)\u001b[0m\u001b[0;34m:\u001b[0m\u001b[0;34m\u001b[0m\u001b[0;34m\u001b[0m\u001b[0m\n\u001b[1;32m    140\u001b[0m         \u001b[0;31m#print(f'ii = {ii}',end='\\n')\u001b[0m\u001b[0;34m\u001b[0m\u001b[0;34m\u001b[0m\u001b[0;34m\u001b[0m\u001b[0m\n\u001b[0;32m--> 141\u001b[0;31m         \u001b[0mTheta\u001b[0m\u001b[0;34m,\u001b[0m \u001b[0mQ\u001b[0m\u001b[0;34m,\u001b[0m \u001b[0mBeta\u001b[0m \u001b[0;34m=\u001b[0m \u001b[0mInverseKinematics\u001b[0m\u001b[0;34m(\u001b[0m\u001b[0mL\u001b[0m\u001b[0;34m,\u001b[0m\u001b[0mP\u001b[0m\u001b[0;34m[\u001b[0m\u001b[0mii\u001b[0m\u001b[0;34m]\u001b[0m\u001b[0;34m)\u001b[0m\u001b[0;34m\u001b[0m\u001b[0;34m\u001b[0m\u001b[0m\n\u001b[0m\u001b[1;32m    142\u001b[0m         \u001b[0mJ\u001b[0m \u001b[0;34m=\u001b[0m \u001b[0mJacobianQ\u001b[0m\u001b[0;34m(\u001b[0m\u001b[0mL\u001b[0m\u001b[0;34m,\u001b[0m \u001b[0mTheta\u001b[0m\u001b[0;34m,\u001b[0m \u001b[0mQ\u001b[0m\u001b[0;34m,\u001b[0m \u001b[0mBeta\u001b[0m\u001b[0;34m)\u001b[0m\u001b[0;34m\u001b[0m\u001b[0;34m\u001b[0m\u001b[0m\n\u001b[1;32m    143\u001b[0m         \u001b[0mI\u001b[0m\u001b[0;34m.\u001b[0m\u001b[0mappend\u001b[0m\u001b[0;34m(\u001b[0m\u001b[0mLocalIndexes\u001b[0m\u001b[0;34m(\u001b[0m\u001b[0mL\u001b[0m\u001b[0;34m,\u001b[0m \u001b[0mJ\u001b[0m\u001b[0;34m)\u001b[0m\u001b[0;34m)\u001b[0m\u001b[0;34m\u001b[0m\u001b[0;34m\u001b[0m\u001b[0m\n",
      "\u001b[0;32m~/Documentos/PF-Mec/GlobalIndexKinematical.py\u001b[0m in \u001b[0;36mInverseKinematics\u001b[0;34m(L, P)\u001b[0m\n\u001b[1;32m     49\u001b[0m     \u001b[0mTx2\u001b[0m \u001b[0;34m=\u001b[0m \u001b[0mnp\u001b[0m\u001b[0;34m.\u001b[0m\u001b[0mmatrix\u001b[0m\u001b[0;34m(\u001b[0m\u001b[0;34m[\u001b[0m\u001b[0mnp\u001b[0m\u001b[0;34m.\u001b[0m\u001b[0mroots\u001b[0m\u001b[0;34m(\u001b[0m\u001b[0mCTx2\u001b[0m\u001b[0;34m[\u001b[0m\u001b[0;36m0\u001b[0m\u001b[0;34m]\u001b[0m\u001b[0;34m)\u001b[0m\u001b[0;34m,\u001b[0m\u001b[0mnp\u001b[0m\u001b[0;34m.\u001b[0m\u001b[0mroots\u001b[0m\u001b[0;34m(\u001b[0m\u001b[0mCTx2\u001b[0m\u001b[0;34m[\u001b[0m\u001b[0;36m1\u001b[0m\u001b[0;34m]\u001b[0m\u001b[0;34m)\u001b[0m\u001b[0;34m,\u001b[0m\u001b[0mnp\u001b[0m\u001b[0;34m.\u001b[0m\u001b[0mroots\u001b[0m\u001b[0;34m(\u001b[0m\u001b[0mCTx2\u001b[0m\u001b[0;34m[\u001b[0m\u001b[0;36m2\u001b[0m\u001b[0;34m]\u001b[0m\u001b[0;34m)\u001b[0m\u001b[0;34m]\u001b[0m\u001b[0;34m)\u001b[0m\u001b[0;34m.\u001b[0m\u001b[0mT\u001b[0m\u001b[0;34m\u001b[0m\u001b[0;34m\u001b[0m\u001b[0m\n\u001b[1;32m     50\u001b[0m     \u001b[0mA\u001b[0m \u001b[0;34m=\u001b[0m \u001b[0mTx2\u001b[0m\u001b[0;34m.\u001b[0m\u001b[0mcopy\u001b[0m\u001b[0;34m(\u001b[0m\u001b[0;34m)\u001b[0m\u001b[0;34m\u001b[0m\u001b[0;34m\u001b[0m\u001b[0m\n\u001b[0;32m---> 51\u001b[0;31m     \u001b[0mBeta\u001b[0m \u001b[0;34m=\u001b[0m \u001b[0;36m2\u001b[0m\u001b[0;34m*\u001b[0m\u001b[0mnp\u001b[0m\u001b[0;34m.\u001b[0m\u001b[0marctan\u001b[0m\u001b[0;34m(\u001b[0m\u001b[0mA\u001b[0m\u001b[0;34m[\u001b[0m\u001b[0;36m0\u001b[0m\u001b[0;34m,\u001b[0m\u001b[0;34m:\u001b[0m\u001b[0;34m]\u001b[0m\u001b[0;34m)\u001b[0m \u001b[0;34m+\u001b[0m \u001b[0mnp\u001b[0m\u001b[0;34m.\u001b[0m\u001b[0mpi\u001b[0m\u001b[0;34m/\u001b[0m\u001b[0;36m2\u001b[0m\u001b[0;34m\u001b[0m\u001b[0;34m\u001b[0m\u001b[0m\n\u001b[0m\u001b[1;32m     52\u001b[0m     \u001b[0;32mreturn\u001b[0m \u001b[0mTheta\u001b[0m\u001b[0;34m,\u001b[0m \u001b[0mQ\u001b[0m\u001b[0;34m,\u001b[0m \u001b[0mBeta\u001b[0m\u001b[0;34m\u001b[0m\u001b[0;34m\u001b[0m\u001b[0m\n\u001b[1;32m     53\u001b[0m \u001b[0;34m\u001b[0m\u001b[0m\n",
      "\u001b[0;32m/usr/lib/python3.7/site-packages/numpy/matrixlib/defmatrix.py\u001b[0m in \u001b[0;36m__array_finalize__\u001b[0;34m(self, obj)\u001b[0m\n\u001b[1;32m    168\u001b[0m \u001b[0;34m\u001b[0m\u001b[0m\n\u001b[1;32m    169\u001b[0m     \u001b[0;32mdef\u001b[0m \u001b[0m__array_finalize__\u001b[0m\u001b[0;34m(\u001b[0m\u001b[0mself\u001b[0m\u001b[0;34m,\u001b[0m \u001b[0mobj\u001b[0m\u001b[0;34m)\u001b[0m\u001b[0;34m:\u001b[0m\u001b[0;34m\u001b[0m\u001b[0;34m\u001b[0m\u001b[0m\n\u001b[0;32m--> 170\u001b[0;31m         \u001b[0mself\u001b[0m\u001b[0;34m.\u001b[0m\u001b[0m_getitem\u001b[0m \u001b[0;34m=\u001b[0m \u001b[0;32mFalse\u001b[0m\u001b[0;34m\u001b[0m\u001b[0;34m\u001b[0m\u001b[0m\n\u001b[0m\u001b[1;32m    171\u001b[0m         \u001b[0;32mif\u001b[0m \u001b[0;34m(\u001b[0m\u001b[0misinstance\u001b[0m\u001b[0;34m(\u001b[0m\u001b[0mobj\u001b[0m\u001b[0;34m,\u001b[0m \u001b[0mmatrix\u001b[0m\u001b[0;34m)\u001b[0m \u001b[0;32mand\u001b[0m \u001b[0mobj\u001b[0m\u001b[0;34m.\u001b[0m\u001b[0m_getitem\u001b[0m\u001b[0;34m)\u001b[0m\u001b[0;34m:\u001b[0m \u001b[0;32mreturn\u001b[0m\u001b[0;34m\u001b[0m\u001b[0;34m\u001b[0m\u001b[0m\n\u001b[1;32m    172\u001b[0m         \u001b[0mndim\u001b[0m \u001b[0;34m=\u001b[0m \u001b[0mself\u001b[0m\u001b[0;34m.\u001b[0m\u001b[0mndim\u001b[0m\u001b[0;34m\u001b[0m\u001b[0;34m\u001b[0m\u001b[0m\n",
      "\u001b[0;31mKeyboardInterrupt\u001b[0m: "
     ]
    }
   ],
   "source": [
    "for i in range(k):\n",
    "    # Evaluate Fitness\n",
    "    print('\\n',f'Evaluate Fitness of Generation {i}:')\n",
    "    fitness = ga.fitnessK(new_population,P,show = True)\n",
    "    Global_fitness.append(max(fitness))\n",
    "    Avg_fitness.append(np.average(fitness))\n",
    "    print(f'Maximun Fitness: {Global_fitness[-1]} and Mean Fitness: {Avg_fitness[-1]}')\n",
    "    Elite.append(new_population[fitness.index(Global_fitness[-1])])\n",
    "\n",
    "    # Select Best Fitness\n",
    "    parents = ga.select_parents(new_population,fitness,num_parents)\n",
    "    #print('Parents Selected:\\n',parents, '\\n')\n",
    "\n",
    "    # Crossover\n",
    "    offspring_cross = ga.crossover(parents,num_kromo)\n",
    "    #print('crossover:\\n',offspring_cross, '\\n')\n",
    "\n",
    "    # Mutation\n",
    "    mut_prob = 0.6\n",
    "    offspring_mut = ga.mutation(offspring_cross,span, mut_prob)\n",
    "    #print('Mutation:\\n',offspring_mut, '\\n')\n",
    "\n",
    "    # Pop\n",
    "    new_population = np.concatenate((parents, offspring_mut))\n",
    "    #print('Generation ', i, ':\\n', new_population)\n",
    "    \n",
    "# Evaluate Fitness\n",
    "print('\\n',f'Evaluate Fitness of Generation {k}:')\n",
    "fitness = ga.fitnessK(new_population,P)\n",
    "Global_fitness.append(max(fitness))\n",
    "Avg_fitness.append(np.average(fitness))\n",
    "print(f'Maximun Fitness: {Global_fitness[-1]} and Mean Fitness: {Avg_fitness[-1]}')\n",
    "Elite.append(new_population[fitness.index(Global_fitness[-1])])"
   ]
  },
  {
   "cell_type": "code",
   "execution_count": null,
   "metadata": {
    "colab": {},
    "colab_type": "code",
    "id": "im7YkzwFWDAU"
   },
   "outputs": [],
   "source": [
    "#print(Global_fitness)\n",
    "print(f'Best Solution: {new_population[fitness.index(max(fitness))]}')\n",
    "\n",
    "plt.plot(Global_fitness,'b-')\n",
    "plt.plot(Avg_fitness,'r-')\n",
    "\n",
    "plt.xlabel('# Generaciones')\n",
    "plt.show()"
   ]
  },
  {
   "cell_type": "code",
   "execution_count": null,
   "metadata": {
    "colab": {},
    "colab_type": "code",
    "id": "4wE_8nMkvTWG"
   },
   "outputs": [],
   "source": [
    "np.savetxt('Records_Fitness.csv',(np.matrix(Global_fitness).T,np.matrix(Avg_fitness).T),fmt='%4.4f',delimiter=',',header='Maximun, Mean')\n",
    "np.savetxt('Records_Elite.csv',Elite,fmt='%4.4f',delimiter=',',header='R_b, L_A, L_D, e',comments='Best of each Generation')\n",
    "np.savetxt('Last_Generation.csv',new_population,fmt='%4.4f',delimiter=',',header='R_b, L_A, L_D, e')\n",
    "np.savetxt('Last_Fitness.csv',np.matrix(fitness).T,fmt='%4.4f',delimiter=',',header='Fitness')\n",
    "\n",
    "#!cp \"Records_Fitness.csv\" \"/content/drive/Shared drives/Proyecto Final/4. Diseño Basico/Algortimo Genetico Cinematico/Records_Fitness.csv\"\n",
    "#!cp \"Records_Elite.csv\" \"/content/drive/Shared drives/Proyecto Final/4. Diseño Basico/Algortimo Genetico Cinematico/Records_Elite.csv\"\n",
    "#!cp \"Last_Generation.csv\" \"/content/drive/Shared drives/Proyecto Final/4. Diseño Basico/Algortimo Genetico Cinematico/Last_Generation.csv\"\n",
    "#!cp \"Last_Fitness.csv\" \"/content/drive/Shared drives/Proyecto Final/4. Diseño Basico/Algortimo Genetico Cinematico/Last_Fitness.csv\""
   ]
  }
 ],
 "metadata": {
  "colab": {
   "collapsed_sections": [],
   "name": "Algoritmo Genetico Principal.ipynb",
   "provenance": []
  },
  "kernelspec": {
   "display_name": "Python 3",
   "language": "python",
   "name": "python3"
  },
  "language_info": {
   "codemirror_mode": {
    "name": "ipython",
    "version": 3
   },
   "file_extension": ".py",
   "mimetype": "text/x-python",
   "name": "python",
   "nbconvert_exporter": "python",
   "pygments_lexer": "ipython3",
   "version": "3.7.4"
  }
 },
 "nbformat": 4,
 "nbformat_minor": 1
}
